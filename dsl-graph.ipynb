{
 "cells": [
  {
   "cell_type": "code",
   "execution_count": 2,
   "metadata": {},
   "outputs": [],
   "source": [
    "import torch as t\n",
    "import numpy as np\n",
    "import torch.nn as nn\n",
    "import torch.nn.functional as F\n",
    "from utils import cmap, readAllData, readJson, show\n",
    "import matplotlib.pyplot as plt\n",
    "import matplotlib.patches as patches"
   ]
  },
  {
   "cell_type": "code",
   "execution_count": 3,
   "metadata": {},
   "outputs": [
    {
     "data": {
      "text/plain": [
       "10"
      ]
     },
     "execution_count": 3,
     "metadata": {},
     "output_type": "execute_result"
    }
   ],
   "source": [
    "data = readAllData('./data/idea_testing/')\n",
    "data = data[0]['train']['input']\n",
    "len(data)"
   ]
  },
  {
   "cell_type": "code",
   "execution_count": 4,
   "metadata": {},
   "outputs": [
    {
     "data": {
      "image/png": "[encoded data removed]",
      "text/plain": [
       "<Figure size 800x300 with 10 Axes>"
      ]
     },
     "metadata": {},
     "output_type": "display_data"
    }
   ],
   "source": [
    "rows, cols = 2, 5 \n",
    "_, ax = plt.subplots(rows, cols, figsize=(8, 3))\n",
    "\n",
    "for c in range(cols):\n",
    "    for r in range(rows):\n",
    "        show(data[c * 2 + r], ax[r, c])"
   ]
  },
  {
   "cell_type": "code",
   "execution_count": 5,
   "metadata": {},
   "outputs": [
    {
     "data": {
      "image/png": "[encoded data removed]",
      "text/plain": [
       "<Figure size 640x480 with 1 Axes>"
      ]
     },
     "metadata": {},
     "output_type": "display_data"
    }
   ],
   "source": [
    "img = data[8]\n",
    "show(img)"
   ]
  },
  {
   "cell_type": "code",
   "execution_count": 6,
   "metadata": {},
   "outputs": [],
   "source": [
    "non_zero_rows, non_zero_cols = np.where(img > 0)"
   ]
  },
  {
   "cell_type": "code",
   "execution_count": 20,
   "metadata": {},
   "outputs": [],
   "source": [
    "class Node:\n",
    "    def __init__(self, row, col, value):\n",
    "        self.row = row\n",
    "        self.col = col\n",
    "        self.value = value\n",
    "        self.neighbours = []\n",
    "        self.is_visited = False"
   ]
  },
  {
   "cell_type": "code",
   "execution_count": 25,
   "metadata": {},
   "outputs": [],
   "source": [
    "visited = np.zeros_like(img, dtype=bool)\n",
    "\n",
    "neighbours = [ (1, 0), (-1, 0), (0, 1), (0, -1) ]\n",
    "\n",
    "def dfsFloodFill(i, j, prev_node=None):\n",
    "    if i < 0 or i >= img.shape[0] or j < 0 or j >= img.shape[1]: return\n",
    "    if img[i, j] == 0: return\n",
    "    if visited[i, j]: return\n",
    "    visited[i, j] = True\n",
    "\n",
    "    node = Node(i, j, img[i, j])\n",
    "    if prev_node:\n",
    "        node.neighbours.append(prev_node)\n",
    "        prev_node.neighbours.append(node)\n",
    "\n",
    "    for dx, dy in neighbours:\n",
    "        dfsFloodFill(i + dx, j + dy, node)\n",
    "\n",
    "    if not prev_node:\n",
    "        return node\n",
    "\n",
    "graphs = []\n",
    "\n",
    "for i, j in zip(non_zero_rows, non_zero_cols):\n",
    "    if not visited[i, j]:\n",
    "        graphs.append(dfsFloodFill(i, j))"
   ]
  },
  {
   "cell_type": "code",
   "execution_count": 26,
   "metadata": {},
   "outputs": [],
   "source": [
    "def reset(node):\n",
    "    if not node.is_visited: return\n",
    "    node.is_visited = False\n",
    "    for n in node.neighbours:\n",
    "        reset(n)"
   ]
  },
  {
   "cell_type": "code",
   "execution_count": 29,
   "metadata": {},
   "outputs": [],
   "source": [
    "def dfs(node, prev_node=None, ax=None):\n",
    "    if node.is_visited: return\n",
    "\n",
    "    node.is_visited = True\n",
    "\n",
    "    if ax:\n",
    "        ax.add_patch(patches.Circle((node.col, node.row), 0.05, fill=True, color='white'))\n",
    "        if prev_node:\n",
    "            ax.add_patch(patches.ConnectionPatch((prev_node.col, prev_node.row), (node.col, node.row), \n",
    "                                                 'data', \n",
    "                                                 'data', \n",
    "                                                 arrowstyle='->', \n",
    "                                                 color='white',\n",
    "                                                 shrinkA=5, \n",
    "                                                 shrinkB=5, \n",
    "                                                 mutation_scale=5))\n",
    "\n",
    "    for n in node.neighbours:\n",
    "        dfs(n, node, ax)"
   ]
  },
  {
   "cell_type": "code",
   "execution_count": 30,
   "metadata": {},
   "outputs": [
    {
     "data": {
      "image/png": "[encoded data removed]",
      "text/plain": [
       "<Figure size 300x300 with 1 Axes>"
      ]
     },
     "metadata": {},
     "output_type": "display_data"
    }
   ],
   "source": [
    "_, ax = plt.subplots(1, 1, figsize=(3,3))\n",
    "\n",
    "ax.imshow(img, cmap=cmap)\n",
    "for g in graphs:\n",
    "    reset(g)\n",
    "    dfs(g, None, ax)\n",
    "\n",
    "plt.show()"
   ]
  },
  {
   "cell_type": "code",
   "execution_count": null,
   "metadata": {},
   "outputs": [],
   "source": []
  }
 ],
 "metadata": {
  "kernelspec": {
   "display_name": "Python 3",
   "language": "python",
   "name": "python3"
  },
  "language_info": {
   "codemirror_mode": {
    "name": "ipython",
    "version": 3
   },
   "file_extension": ".py",
   "mimetype": "text/x-python",
   "name": "python",
   "nbconvert_exporter": "python",
   "pygments_lexer": "ipython3",
   "version": "3.9.0"
  }
 },
 "nbformat": 4,
 "nbformat_minor": 2
}
