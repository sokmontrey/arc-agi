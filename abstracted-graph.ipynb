{
 "cells": [
  {
   "cell_type": "code",
   "execution_count": 8,
   "metadata": {},
   "outputs": [],
   "source": [
    "import torch as t\n",
    "import numpy as np\n",
    "import torch.nn as nn\n",
    "import torch.nn.functional as F\n",
    "from utils import cmap, readAllData, readJson, show\n",
    "import matplotlib.pyplot as plt"
   ]
  },
  {
   "cell_type": "markdown",
   "metadata": {},
   "source": [
    "# Primitive\n",
    "\n",
    "- pixel graph: pixel != 0\n",
    "- line graph:  \n",
    "\n",
    "# Goal\n",
    "Let the model learn higher level idea without supervision. One such idea is a square graph.\n",
    "Create a lookup table with \n",
    "- key = hash of graph unique property\n",
    "- value = the graph itself\n",
    "\n",
    ">[!NOTE]\n",
    "> graph = node (for generalization)"
   ]
  },
  {
   "cell_type": "code",
   "execution_count": 9,
   "metadata": {},
   "outputs": [
    {
     "data": {
      "text/plain": [
       "10"
      ]
     },
     "execution_count": 9,
     "metadata": {},
     "output_type": "execute_result"
    }
   ],
   "source": [
    "data = readAllData('./data/idea_testing/')\n",
    "data = data[0]['train']['input']\n",
    "len(data)"
   ]
  },
  {
   "cell_type": "code",
   "execution_count": 10,
   "metadata": {},
   "outputs": [
    {
     "data": {
      "image/png": "[encoded data removed]",
      "text/plain": [
       "<Figure size 800x300 with 10 Axes>"
      ]
     },
     "metadata": {},
     "output_type": "display_data"
    }
   ],
   "source": [
    "rows, cols = 2, 5 \n",
    "_, ax = plt.subplots(rows, cols, figsize=(8, 3))\n",
    "\n",
    "for c in range(cols):\n",
    "    for r in range(rows):\n",
    "        show(data[c * 2 + r], ax[r, c])"
   ]
  },
  {
   "cell_type": "code",
   "execution_count": 94,
   "metadata": {},
   "outputs": [
    {
     "data": {
      "image/png": "[encoded data removed]",
      "text/plain": [
       "<Figure size 640x480 with 1 Axes>"
      ]
     },
     "metadata": {},
     "output_type": "display_data"
    }
   ],
   "source": [
    "img = t.tensor(data[8], dtype=t.float32).unsqueeze(0).unsqueeze(0)\n",
    "show(img.squeeze(0).squeeze(0))"
   ]
  },
  {
   "cell_type": "code",
   "execution_count": 95,
   "metadata": {},
   "outputs": [],
   "source": [
    "kernals = t.tensor([[\n",
    "    [[-1],\n",
    "     [1]],\n",
    "]], dtype=t.float32)"
   ]
  },
  {
   "cell_type": "code",
   "execution_count": 96,
   "metadata": {},
   "outputs": [],
   "source": [
    "filtered_imgs = F.conv2d(img, kernals, padding=1)"
   ]
  },
  {
   "cell_type": "code",
   "execution_count": 97,
   "metadata": {},
   "outputs": [
    {
     "data": {
      "text/plain": [
       "<matplotlib.image.AxesImage at 0x23ff3ae8340>"
      ]
     },
     "execution_count": 97,
     "metadata": {},
     "output_type": "execute_result"
    },
    {
     "data": {
      "image/png": "[encoded data removed]",
      "text/plain": [
       "<Figure size 640x480 with 1 Axes>"
      ]
     },
     "metadata": {},
     "output_type": "display_data"
    }
   ],
   "source": [
    "plt.imshow(filtered_imgs.squeeze(0).squeeze(0), cmap='gray')"
   ]
  },
  {
   "cell_type": "code",
   "execution_count": 53,
   "metadata": {},
   "outputs": [
    {
     "data": {
      "text/plain": [
       "<matplotlib.image.AxesImage at 0x23ff23e0460>"
      ]
     },
     "execution_count": 53,
     "metadata": {},
     "output_type": "execute_result"
    },
    {
     "data": {
      "image/png": "[encoded data removed]",
      "text/plain": [
       "<Figure size 640x480 with 1 Axes>"
      ]
     },
     "metadata": {},
     "output_type": "display_data"
    }
   ],
   "source": [
    "img = data[0]\n",
    "rows, cols = img.shape\n",
    "plt.imshow(img)"
   ]
  },
  {
   "cell_type": "code",
   "execution_count": 91,
   "metadata": {},
   "outputs": [],
   "source": [
    "class Node:\n",
    "    def __init__(self, row, col, color):\n",
    "        self.row = row\n",
    "        self.col = col\n",
    "        self.color = color\n",
    "        self.is_visited = False\n",
    "\n",
    "    def __str__(self):\n",
    "        return f'Node({self.row}, {self.col}, {self.color})'\n",
    "    \n",
    "    def __repr__(self):\n",
    "        return self.__str__()\n",
    "    \n",
    "    def getLocations(self):\n",
    "        return [(self.row, self.col)]\n",
    "\n",
    "class Pixel(Node):\n",
    "    def __init__(self, row, col, color):\n",
    "        super().__init__(row, col, color)\n",
    "\n",
    "    def __str__(self):\n",
    "        return f'Pixel({self.row}, {self.col}, {self.color})'\n",
    "    \n",
    "    def __repr__(self):\n",
    "        return self.__str__()\n",
    "\n",
    "class Grid:\n",
    "    def __init__(self, rows, cols, graphs=None):\n",
    "        self.rows = rows\n",
    "        self.cols = cols\n",
    "        self.grid = [[None for _ in range(cols)] for _ in range(rows)]\n",
    "\n",
    "        self.graphs = graphs\n",
    "        if graphs == None: return\n",
    "        for graph in graphs:\n",
    "            for r, c in graph.getLocations():\n",
    "                self.grid[r][c] = graph\n",
    "\n",
    "    def getNodes(self, row, col):\n",
    "        if row < 0 or row >= self.rows or col < 0 or col >= self.cols:\n",
    "            return None\n",
    "        return self.grid[row][col]\n",
    "    \n",
    "    def setNode(self, row, col, Node):\n",
    "        self.grid[row][col] = Node\n",
    "\n",
    "    def resetVisited(self):\n",
    "        for row in self.grid:\n",
    "            for node in row:\n",
    "                node.is_visited = False\n",
    "\n",
    "    def __str__(self):\n",
    "        s = ''\n",
    "        for row in self.grid:\n",
    "            for node in row:\n",
    "                s += f'{node} '\n",
    "            s += '\\n'\n",
    "        return s\n",
    "    \n",
    "    def __repr__(self):\n",
    "        return self.__str__()"
   ]
  },
  {
   "cell_type": "code",
   "execution_count": 94,
   "metadata": {},
   "outputs": [
    {
     "name": "stdout",
     "output_type": "stream",
     "text": [
      "pixels: \n",
      "[Pixel(1, 1, 1), Pixel(1, 2, 1), Pixel(1, 3, 1), Pixel(1, 4, 1), Pixel(4, 0, 1), Pixel(4, 1, 1), Pixel(4, 2, 1), Pixel(4, 3, 1)]\n",
      "\n",
      "grid: \n",
      "None None None None None None \n",
      "None Pixel(1, 1, 1) Pixel(1, 2, 1) Pixel(1, 3, 1) Pixel(1, 4, 1) None \n",
      "None None None None None None \n",
      "None None None None None None \n",
      "Pixel(4, 0, 1) Pixel(4, 1, 1) Pixel(4, 2, 1) Pixel(4, 3, 1) None None \n",
      "None None None None None None \n",
      "\n"
     ]
    }
   ],
   "source": [
    "def makePixelsFromImage(img):\n",
    "    pixels = []\n",
    "    rows, cols = img.shape\n",
    "    for r in range(rows):\n",
    "        for c in range(cols):\n",
    "            if img[r, c] > 0:\n",
    "                pixel = Pixel(r, c, img[r, c])\n",
    "                pixels.append(pixel)\n",
    "    return pixels\n",
    "            \n",
    "pixels_grid = Grid(rows, cols, makePixelsFromImage(img))\n",
    "print(\"pixels: \")\n",
    "print(pixels)\n",
    "print()\n",
    "print(\"grid: \")\n",
    "print(pixels_grid)"
   ]
  },
  {
   "cell_type": "code",
   "execution_count": 95,
   "metadata": {},
   "outputs": [],
   "source": [
    "class Line(Node):\n",
    "    def __init__(self, row, col, pixels):\n",
    "        super().__init__(row, col, pixels[0].color)\n",
    "        self.pixels = pixels\n",
    "\n",
    "    def getLocations(self):\n",
    "        return [pixel.getLocation() for pixel in self.pixels]\n",
    "\n",
    "    def __str__(self):\n",
    "        return f'Line({self.row}, {self.col})'\n",
    "    \n",
    "    def __repr__(self):\n",
    "        return self.__str__()\n"
   ]
  },
  {
   "cell_type": "code",
   "execution_count": 56,
   "metadata": {},
   "outputs": [],
   "source": [
    "class RefNode:\n",
    "    def __init__(self, node: Node):\n",
    "        self.ref = node\n",
    "        self.adjacent = []"
   ]
  },
  {
   "cell_type": "code",
   "execution_count": 77,
   "metadata": {},
   "outputs": [],
   "source": [
    "layer0_pixels = Grid.makeLayer0FromImage(img)"
   ]
  },
  {
   "cell_type": "code",
   "execution_count": 78,
   "metadata": {},
   "outputs": [],
   "source": [
    "layer1_horizontal_lines = Grid(rows, cols)\n",
    "layer1_vertical_lines = Grid(rows, cols)"
   ]
  },
  {
   "cell_type": "code",
   "execution_count": 80,
   "metadata": {},
   "outputs": [],
   "source": [
    "def makeHLine(layer, r, c):\n",
    "    layer.is_visited = True\n",
    "    node = layer.getNode(r, c)\n",
    "\n",
    "    graph = RefNode(node)\n",
    "    right_graph = None\n",
    "    left_graph = None\n",
    "\n",
    "    right_node = layer.getNode(r, c + 1)\n",
    "    if right_node != None \\\n",
    "    and not right_node.is_visited \\\n",
    "    and right_node.color == node.color:\n",
    "        right_graph = makeHLine(layer, r, c + 1)\n",
    "\n",
    "    left_node = layer.getNode(r, c - 1)\n",
    "    if left_node != None \\\n",
    "    and not left_node.is_visited \\\n",
    "    and left_node.color == node.color:\n",
    "        left_graph = makeHLine(layer, r, c - 1)\n",
    "    \n",
    "    if right_graph != None:\n",
    "        right_graph.adjacent.append(node)\n",
    "        node.adjacent.append(right_graph)\n",
    "\n",
    "    if left_graph != None:\n",
    "        left_graph.adjacent.append(node)\n",
    "        node.adjacent.append(left_graph)\n",
    "\n",
    "    if right_graph == None and left_graph == None:\n",
    "        return None\n",
    "    else:\n",
    "        return graph"
   ]
  },
  {
   "cell_type": "code",
   "execution_count": 81,
   "metadata": {},
   "outputs": [],
   "source": [
    "def makeHLineLayer(layer):\n",
    "    layer.resetVisited()\n",
    "    for r in range(layer.rows):\n",
    "        for c in range(layer.cols):\n",
    "            node = layer.getNode(r, c)\n",
    "            if node == None \\\n",
    "            or node.is_visited: \n",
    "                continue\n",
    "\n",
    "            makeHLine(layer, r, c)"
   ]
  },
  {
   "cell_type": "code",
   "execution_count": null,
   "metadata": {},
   "outputs": [],
   "source": [
    "makeHLineLayer(layer1_horizontal_lines)"
   ]
  }
 ],
 "metadata": {
  "kernelspec": {
   "display_name": "Python 3",
   "language": "python",
   "name": "python3"
  },
  "language_info": {
   "codemirror_mode": {
    "name": "ipython",
    "version": 3
   },
   "file_extension": ".py",
   "mimetype": "text/x-python",
   "name": "python",
   "nbconvert_exporter": "python",
   "pygments_lexer": "ipython3",
   "version": "3.9.0"
  }
 },
 "nbformat": 4,
 "nbformat_minor": 2
}
