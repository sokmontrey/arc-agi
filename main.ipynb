{
 "cells": [
  {
   "cell_type": "code",
   "execution_count": 116,
   "metadata": {},
   "outputs": [],
   "source": [
    "import json \n",
    "import os\n",
    "\n",
    "import pandas as pd\n",
    "import numpy as np\n",
    "import matplotlib.pyplot as plt\n",
    "from matplotlib.colors import ListedColormap\n",
    "\n",
    "import torch as t\n",
    "import torch.nn as nn\n",
    "import torch.nn.functional as F\n",
    "from torch.utils.data import DataLoader, Dataset"
   ]
  },
  {
   "cell_type": "code",
   "execution_count": 22,
   "metadata": {},
   "outputs": [],
   "source": [
    "def readJson(file_name):\n",
    "    with open(file_name, 'r') as f:\n",
    "        data = json.load(f)\n",
    "    return data"
   ]
  },
  {
   "cell_type": "code",
   "execution_count": 74,
   "metadata": {},
   "outputs": [],
   "source": [
    "class ARCDataset(Dataset):\n",
    "    def __init__(self, json_files):\n",
    "        self.json_files = json_files\n",
    "\n",
    "    def __len__(self):\n",
    "        return len(self.json_files)\n",
    "    \n",
    "    def __getitem__(self, index):\n",
    "        file_name = self.json_files[index]\n",
    "        arc_json_data = readJson(file_name)\n",
    "\n",
    "        for s in arc_json_data['train']:\n",
    "            s['input'] = np.array(s['input'], dtype=np.uint8)\n",
    "            s['output'] = np.array(s['output'], dtype=np.uint8)\n",
    "\n",
    "        for s in arc_json_data['test']:\n",
    "            s['input'] = np.array(s['input'], dtype=np.uint8)\n",
    "            s['output'] = np.array(s['output'], dtype=np.uint8)\n",
    "        \n",
    "        return arc_json_data\n"
   ]
  },
  {
   "cell_type": "code",
   "execution_count": 166,
   "metadata": {},
   "outputs": [],
   "source": [
    "cmap = ListedColormap(['#000000', \n",
    "                       '#1f77b4', \n",
    "                       '#ff7f0e', \n",
    "                       '#2ca02c', \n",
    "                       '#d62728', \n",
    "                       '#9467bd', \n",
    "                       '#8c564b', \n",
    "                       '#e377c2', \n",
    "                       '#f0f0f0', \n",
    "                       '#bcbd22'])\n",
    "\n",
    "def showTrainingImages(sample):\n",
    "    trains = sample['train']\n",
    "    tests = sample['test']\n",
    "\n",
    "    rows = max(len(trains), len(tests))\n",
    "    cols = 4\n",
    "    _, axs = plt.subplots(rows, cols, figsize=(5, 5))\n",
    "\n",
    "    axs[0, 0].set_title('Train Input')\n",
    "    axs[0, 1].set_title('Train Output')\n",
    "    axs[0, 2].set_title('Test Input')\n",
    "    axs[0, 3].set_title('Test Output')\n",
    "\n",
    "    for rows in axs:\n",
    "        for ax in rows:\n",
    "            ax.axis('off')\n",
    "    \n",
    "    for train, i in zip(trains, range(len(trains))):\n",
    "        axs[i, 0].imshow(train['input'][0], cmap=cmap, vmin=0, vmax=9)\n",
    "        axs[i, 1].imshow(train['output'][0], cmap=cmap, vmin=0, vmax=9)\n",
    "\n",
    "    for test, i in zip(tests, range(len(tests))):\n",
    "        axs[i, 2].imshow(test['input'][0], cmap=cmap, vmin=0, vmax=9)\n",
    "        axs[i, 3].imshow(test['output'][0], cmap=cmap, vmin=0, vmax=9)\n",
    "\n",
    "    plt.show()"
   ]
  },
  {
   "cell_type": "code",
   "execution_count": 167,
   "metadata": {},
   "outputs": [],
   "source": [
    "training_dir = './data/evaluation'\n",
    "train_file_names = [os.path.join(training_dir, file_name)\n",
    "                    for file_name in os.listdir(training_dir)]\n",
    "\n",
    "training_ds = ARCDataset(train_file_names)\n",
    "dl = DataLoader(training_ds, batch_size=1, shuffle=True)"
   ]
  },
  {
   "cell_type": "code",
   "execution_count": 169,
   "metadata": {},
   "outputs": [
    {
     "data": {
      "image/png": "[encoded data removed]",
      "text/plain": [
       "<Figure size 500x500 with 16 Axes>"
      ]
     },
     "metadata": {},
     "output_type": "display_data"
    }
   ],
   "source": [
    "img = next(iter(dl))\n",
    "showTrainingImages(img)"
   ]
  },
  {
   "cell_type": "code",
   "execution_count": null,
   "metadata": {},
   "outputs": [],
   "source": []
  }
 ],
 "metadata": {
  "kernelspec": {
   "display_name": "Python 3",
   "language": "python",
   "name": "python3"
  },
  "language_info": {
   "codemirror_mode": {
    "name": "ipython",
    "version": 3
   },
   "file_extension": ".py",
   "mimetype": "text/x-python",
   "name": "python",
   "nbconvert_exporter": "python",
   "pygments_lexer": "ipython3",
   "version": "3.9.0"
  }
 },
 "nbformat": 4,
 "nbformat_minor": 2
}
