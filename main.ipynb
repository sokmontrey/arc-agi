{
 "cells": [
  {
   "cell_type": "code",
   "execution_count": 3,
   "metadata": {},
   "outputs": [
    {
     "name": "stderr",
     "output_type": "stream",
     "text": [
      "c:\\Users\\sokmo\\AppData\\Local\\Programs\\Python\\Python39\\lib\\site-packages\\torchvision\\io\\image.py:13: UserWarning: Failed to load image Python extension: 'Could not find module 'C:\\Users\\sokmo\\AppData\\Local\\Programs\\Python\\Python39\\Lib\\site-packages\\torchvision\\image.pyd' (or one of its dependencies). Try using the full path with constructor syntax.'If you don't plan on using image functionality from `torchvision.io`, you can ignore this warning. Otherwise, there might be something wrong with your environment. Did you have `libjpeg` or `libpng` installed before building `torchvision` from source?\n",
      "  warn(\n"
     ]
    }
   ],
   "source": [
    "import json \n",
    "import os\n",
    "\n",
    "import pandas as pd\n",
    "import numpy as np\n",
    "import matplotlib.pyplot as plt\n",
    "from matplotlib.colors import ListedColormap\n",
    "\n",
    "import torch as t\n",
    "import torch.nn as nn\n",
    "import torch.nn.functional as F\n",
    "import torchvision as tv\n",
    "from torch.utils.data import DataLoader, Dataset"
   ]
  },
  {
   "cell_type": "code",
   "execution_count": 4,
   "metadata": {},
   "outputs": [],
   "source": [
    "def readJson(file_name):\n",
    "    with open(file_name, 'r') as f:\n",
    "        data = json.load(f)\n",
    "    return data"
   ]
  },
  {
   "cell_type": "code",
   "execution_count": 5,
   "metadata": {},
   "outputs": [],
   "source": [
    "# shapes:\n",
    "# 0 - example/test\n",
    "# 1 - samples\n",
    "# 2 - input/output\n",
    "# 4 - height\n",
    "# 5 - width\n",
    "# 6 - color \n",
    "# max width and height of all samples: 30x30\n",
    "class ARCDataset(Dataset):\n",
    "    def __init__(self, json_files):\n",
    "        self.json_files = json_files\n",
    "\n",
    "    def __len__(self):\n",
    "        return len(self.json_files)\n",
    "    \n",
    "    def __getitem__(self, index):\n",
    "        file_name = self.json_files[index]\n",
    "        arc_json_data = readJson(file_name)\n",
    "\n",
    "        for s in arc_json_data['train']:\n",
    "            s['input'] = self.resize(s['input'])\n",
    "            s['output'] = self.resize(s['output'])\n",
    "\n",
    "        for s in arc_json_data['test']:\n",
    "            s['input'] = self.resize(s['input'])\n",
    "            s['output'] = self.resize(s['output'])\n",
    "\n",
    "        return {\n",
    "            'train': t.tensor([[s['input'], s['output']]for s in arc_json_data['train']]),\n",
    "            'test': t.tensor([[s['input'], s['output']]for s in arc_json_data['test']]),\n",
    "        }\n",
    "\n",
    "    def resize(self, array):\n",
    "        result = np.zeros((30, 30), dtype=np.int8)\n",
    "        array = np.array(array, dtype=np.int8)\n",
    "        h, w = array.shape\n",
    "        result[:h, :w] = array\n",
    "        return result"
   ]
  },
  {
   "cell_type": "code",
   "execution_count": 6,
   "metadata": {},
   "outputs": [],
   "source": [
    "cmap = ListedColormap(['#000000', \n",
    "                       '#1e92fe', \n",
    "                       '#f83c30', \n",
    "                       '#4ecd30', \n",
    "                       '#fedc01', \n",
    "                       '#999999', \n",
    "                       '#e53aa3', \n",
    "                       '#fe841b', \n",
    "                       '#86d9f1', \n",
    "                       '#bcbd22'])\n",
    "\n",
    "def showTrainingImages(sample, width=8, height=7):\n",
    "    trains = sample['train'][0]\n",
    "    tests = sample['test'][0]\n",
    "\n",
    "    rows = max(len(trains), len(tests))\n",
    "    cols = 4\n",
    "    _, axs = plt.subplots(rows, cols, figsize=(width, height))\n",
    "\n",
    "    axs[0, 0].set_title('Train Input')\n",
    "    axs[0, 1].set_title('Train Output')\n",
    "    axs[0, 2].set_title('Test Input')\n",
    "    axs[0, 3].set_title('Test Output')\n",
    "\n",
    "    for rows in axs:\n",
    "        for ax in rows:\n",
    "            ax.axis('off')\n",
    "    \n",
    "    for train, i in zip(trains, range(len(trains))):\n",
    "        axs[i, 0].imshow(train[0], cmap=cmap, vmin=0, vmax=9)\n",
    "        axs[i, 1].imshow(train[1], cmap=cmap, vmin=0, vmax=9)\n",
    "\n",
    "    for test, i in zip(tests, range(len(tests))):\n",
    "        axs[i, 2].imshow(test[0], cmap=cmap, vmin=0, vmax=9)\n",
    "        axs[i, 3].imshow(test[1], cmap=cmap, vmin=0, vmax=9)\n",
    "\n",
    "    plt.show()"
   ]
  },
  {
   "cell_type": "code",
   "execution_count": 90,
   "metadata": {},
   "outputs": [],
   "source": [
    "training_dir = './data/training/'\n",
    "train_file_names = [os.path.join(training_dir, file_name)\n",
    "                    for file_name in os.listdir(training_dir)]\n",
    "\n",
    "# training_ds = ARCDataset(train_file_names)\n",
    "training_ds = ARCDataset([training_dir + '06df4c85.json'])\n",
    "dl = DataLoader(training_ds, batch_size=1, shuffle=False)\n",
    "sample = next(iter(dl))"
   ]
  },
  {
   "cell_type": "code",
   "execution_count": 91,
   "metadata": {},
   "outputs": [
    {
     "data": {
      "image/png": "[encoded data removed]",
      "text/plain": [
       "<Figure size 800x700 with 12 Axes>"
      ]
     },
     "metadata": {},
     "output_type": "display_data"
    }
   ],
   "source": [
    "sample = next(iter(dl))\n",
    "showTrainingImages(sample)"
   ]
  },
  {
   "cell_type": "code",
   "execution_count": 114,
   "metadata": {},
   "outputs": [],
   "source": [
    "class Cluster:\n",
    "    def __init__(self, points):\n",
    "        self.points = points\n",
    "        self.centroid = self.calculateCentroid()\n",
    "    \n",
    "    def calculateCentroid(self):\n",
    "        return np.mean(self.points, axis=0)\n",
    "\n",
    "def getFloodFillClusters(img):\n",
    "    clusters = []\n",
    "    visited = np.zeros_like(img)\n",
    "\n",
    "    temp_cluster = []\n",
    "    def floodFill(prev_val, x, y):\n",
    "        if x < 0 or y < 0 or x >= img.shape[0] or y >= img.shape[1]: return\n",
    "        if visited[x, y]: return\n",
    "        if img[x, y] != prev_val: return\n",
    "\n",
    "        visited[x, y] = 1\n",
    "        temp_cluster.append((x, y))\n",
    "        for dx, dy in [(1, 0), (-1, 0), (0, 1), (0, -1), (1, 1), (-1, -1), (1, -1), (-1, 1)]:\n",
    "            floodFill(prev_val, x + dx, y + dy)\n",
    "\n",
    "    for y in range(30):\n",
    "        for x in range(30):\n",
    "            temp_cluster = []\n",
    "            floodFill(img[x, y], x, y)\n",
    "            if len(temp_cluster) > 0:\n",
    "                cluster = Cluster(np.array(temp_cluster))\n",
    "                clusters.append(cluster)\n",
    "\n",
    "    return clusters"
   ]
  },
  {
   "cell_type": "code",
   "execution_count": 116,
   "metadata": {},
   "outputs": [
    {
     "data": {
      "image/png": "[encoded data removed]",
      "text/plain": [
       "<Figure size 640x480 with 1 Axes>"
      ]
     },
     "metadata": {},
     "output_type": "display_data"
    }
   ],
   "source": [
    "img = sample['train'][0][2, 1]\n",
    "clusters = getFloodFillClusters(img)\n",
    "\n",
    "plt.imshow(img)\n",
    "for cluster in clusters:\n",
    "    plt.scatter(cluster.centroid[0], cluster.centroid[1], c='r')\n",
    "plt.show()"
   ]
  }
 ],
 "metadata": {
  "kernelspec": {
   "display_name": "Python 3",
   "language": "python",
   "name": "python3"
  },
  "language_info": {
   "codemirror_mode": {
    "name": "ipython",
    "version": 3
   },
   "file_extension": ".py",
   "mimetype": "text/x-python",
   "name": "python",
   "nbconvert_exporter": "python",
   "pygments_lexer": "ipython3",
   "version": "3.9.0"
  }
 },
 "nbformat": 4,
 "nbformat_minor": 2
}
