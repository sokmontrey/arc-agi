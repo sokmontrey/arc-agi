{
 "cells": [
  {
   "cell_type": "code",
   "execution_count": 196,
   "metadata": {},
   "outputs": [],
   "source": [
    "import json \n",
    "import os\n",
    "\n",
    "import pandas as pd\n",
    "import numpy as np\n",
    "import matplotlib.pyplot as plt\n",
    "import matplotlib.patches as patches\n",
    "from matplotlib.colors import ListedColormap\n",
    "\n",
    "import torch as t\n",
    "import torch.nn as nn\n",
    "import torch.nn.functional as F\n",
    "from torch.utils.data import DataLoader, Dataset"
   ]
  },
  {
   "cell_type": "code",
   "execution_count": 155,
   "metadata": {},
   "outputs": [],
   "source": [
    "# shapes:\n",
    "# [input, output], test_start_index\n",
    "# 0 -> test_start_index - 1: train\n",
    "# test_start_index -> end: test\n",
    "\n",
    "def readJson(file_name):\n",
    "    with open(file_name, 'r') as f:\n",
    "        data = json.load(f)\n",
    "    return data\n",
    "\n",
    "class ARCDataset(Dataset):\n",
    "    def __init__(self, json_files):\n",
    "        self.json_files = json_files\n",
    "\n",
    "    def __len__(self):\n",
    "        return len(self.json_files)\n",
    "    \n",
    "    def __getitem__(self, index):\n",
    "        file_name = self.json_files[index]\n",
    "        arc_json_data = readJson(file_name)\n",
    "\n",
    "        inputs = []\n",
    "        outputs = []\n",
    "\n",
    "        for s in arc_json_data['train']:\n",
    "            inputs.append(self.resize(s['input']))\n",
    "            outputs.append(self.resize(s['output']))\n",
    "\n",
    "        for s in arc_json_data['test']:\n",
    "            inputs.append(self.resize(s['input']))\n",
    "            outputs.append(self.resize(s['output']))\n",
    "\n",
    "        inputs = np.array(inputs, dtype=np.int8)\n",
    "        outputs = np.array(outputs, dtype=np.int8)\n",
    "        return inputs, outputs, len(arc_json_data['train'])\n",
    "\n",
    "    def resize(self, array):\n",
    "        result = np.zeros((30, 30), dtype=np.int8)\n",
    "        array = np.array(array, dtype=np.int8)\n",
    "        h, w = array.shape\n",
    "        result[:h, :w] = array\n",
    "        return result"
   ]
  },
  {
   "cell_type": "code",
   "execution_count": 156,
   "metadata": {},
   "outputs": [],
   "source": [
    "cmap = ListedColormap(['#000000', \n",
    "                       '#1e92fe', \n",
    "                       '#f83c30', \n",
    "                       '#4ecd30', \n",
    "                       '#fedc01', \n",
    "                       '#999999', \n",
    "                       '#e53aa3', \n",
    "                       '#fe841b', \n",
    "                       '#86d9f1', \n",
    "                       '#bcbd22'])\n",
    "\n",
    "def showTrainingImages(inputs, outputs, test_index, width=5, height=7):\n",
    "    rows = len(inputs[0])\n",
    "    cols = 2\n",
    "    _, axs = plt.subplots(rows, cols, figsize=(width, height))\n",
    "\n",
    "    axs[0, 0].set_title('Example Input')\n",
    "    axs[0, 1].set_title('Example Output')\n",
    "\n",
    "    for r in axs:\n",
    "        for ax in r:\n",
    "            ax.axis('off')\n",
    "    \n",
    "    for i in range(rows):\n",
    "        axs[i, 0].imshow(inputs[0][i], cmap=cmap, vmin=0, vmax=9)\n",
    "        axs[i, 1].imshow(outputs[0][i], cmap=cmap, vmin=0, vmax=9)\n",
    "\n",
    "        if i == test_index:\n",
    "            axs[i, 0].set_title('Test Input')\n",
    "            axs[i, 1].set_title('Test Output')\n",
    "\n",
    "    plt.show()"
   ]
  },
  {
   "cell_type": "code",
   "execution_count": 192,
   "metadata": {},
   "outputs": [],
   "source": [
    "class Cluster:\n",
    "    def __init__(self, points):\n",
    "        self.value = points[0,0]\n",
    "        self.points = points\n",
    "        self.centroid = self.calculateCentroid()\n",
    "        self.lx = np.min(points[:, 0])\n",
    "        self.ux = np.max(points[:, 0])\n",
    "        self.ly = np.min(points[:, 1])\n",
    "        self.uy = np.max(points[:, 1])\n",
    "    \n",
    "    def calculateCentroid(self):\n",
    "        return np.mean(self.points, axis=0)\n",
    "    \n",
    "    def __len__(self):\n",
    "        return len(self.points)\n",
    "\n",
    "def clusterize(img):\n",
    "    clusters = []\n",
    "    visited = np.zeros((30, 30), dtype=np.int8)\n",
    "\n",
    "    temp_cluster = []\n",
    "    def floodFill(prev_val, x, y):\n",
    "        if x < 0 or y < 0 or x >= img.shape[0] or y >= img.shape[1]: return\n",
    "        if visited[y, x]: return\n",
    "        if img[y, x] != prev_val: return\n",
    "\n",
    "        visited[y, x] = 1\n",
    "        temp_cluster.append((x, y))\n",
    "        if prev_val == 0:\n",
    "            # will not consider diagonals for background\n",
    "            for dx, dy in [(1, 0), (-1, 0), (0, 1), (0, -1)]:\n",
    "                floodFill(prev_val, x + dx, y + dy)\n",
    "        else:\n",
    "            for dx, dy in [(1, 0), (-1, 0), (0, 1), (0, -1), (1, 1), (-1, -1), (1, -1), (-1, 1)]:\n",
    "                floodFill(prev_val, x + dx, y + dy)\n",
    "\n",
    "    for y in range(30):\n",
    "        for x in range(30):\n",
    "            temp_cluster = []\n",
    "            floodFill(img[y, x], x, y)\n",
    "            if len(temp_cluster) > 0:\n",
    "                cluster = Cluster(np.array(temp_cluster))\n",
    "                clusters.append(cluster)\n",
    "\n",
    "    return clusters"
   ]
  },
  {
   "cell_type": "code",
   "execution_count": 212,
   "metadata": {},
   "outputs": [
    {
     "data": {
      "image/png": "[encoded data removed]",
      "text/plain": [
       "<Figure size 500x700 with 8 Axes>"
      ]
     },
     "metadata": {},
     "output_type": "display_data"
    }
   ],
   "source": [
    "training_dir = './data/training/'\n",
    "train_file_names = [os.path.join(training_dir, file_name)\n",
    "                    for file_name in os.listdir(training_dir)]\n",
    "\n",
    "# training_ds = ARCDataset(train_file_names)\n",
    "training_ds = ARCDataset([training_dir + '264363fd.json'])\n",
    "dl = DataLoader(training_ds, batch_size=1, shuffle=False)\n",
    "inp, out, i = next(iter(dl))\n",
    "showTrainingImages(inp, out, i)"
   ]
  },
  {
   "cell_type": "code",
   "execution_count": 231,
   "metadata": {},
   "outputs": [
    {
     "data": {
      "image/png": "[encoded data removed]",
      "text/plain": [
       "<Figure size 640x480 with 1 Axes>"
      ]
     },
     "metadata": {},
     "output_type": "display_data"
    }
   ],
   "source": [
    "img = out[0][2]\n",
    "clusters = clusterize(img)\n",
    "_, ax = plt.subplots()\n",
    "ax.imshow(img, cmap=cmap, vmin=0, vmax=9)\n",
    "for c in clusters:\n",
    "    ax.scatter(c.centroid[0], c.centroid[1], c='w', s=5)\n",
    "    rect = patches.Rectangle((c.lx - 0.5, c.ly - 0.5), c.ux - c.lx + 1, c.uy - c.ly + 1, linewidth=2, edgecolor='g', facecolor='None')\n",
    "    ax.add_patch(rect)\n",
    "plt.show()"
   ]
  },
  {
   "cell_type": "code",
   "execution_count": null,
   "metadata": {},
   "outputs": [],
   "source": []
  }
 ],
 "metadata": {
  "kernelspec": {
   "display_name": "Python 3",
   "language": "python",
   "name": "python3"
  },
  "language_info": {
   "codemirror_mode": {
    "name": "ipython",
    "version": 3
   },
   "file_extension": ".py",
   "mimetype": "text/x-python",
   "name": "python",
   "nbconvert_exporter": "python",
   "pygments_lexer": "ipython3",
   "version": "3.9.0"
  }
 },
 "nbformat": 4,
 "nbformat_minor": 2
}
